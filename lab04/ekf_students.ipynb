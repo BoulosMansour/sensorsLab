{
 "cells": [
  {
   "cell_type": "markdown",
   "metadata": {},
   "source": [
    "# Laboratory 04\n",
    "**Localization of a robot with Extended Kalman Filter**"
   ]
  },
  {
   "cell_type": "markdown",
   "metadata": {},
   "source": [
    "---\n",
    "## Objective\n",
    "\n",
    "- Implement the equation of the EKF in a Python script\n",
    "- Run a localization simulation with the implemented script\n",
    "- Understand the influence of parameters of the EKF\n"
   ]
  },
  {
   "cell_type": "markdown",
   "metadata": {},
   "source": [
    "---\n",
    "\n",
    "## NumPy Usage\n",
    "\n",
    "NumPy is a fundamental Python library for numerical computing. It stands for Numerical Python and offers powerful tools and data structures, primarily multidimensional arrays (ndarrays), along with a collection of mathematical functions to operate on these arrays. NumPy provides efficient methods for manipulating large datasets and performing a wide range of mathematical computations, including linear algebra, Fourier analysis, statistics, random number generation, and more. Its versatility, speed, and ease of use make it a pillar in various fields such as scientific computing, data analysis and machine learning.\n",
    "\n",
    "In the following cells are reported some common operations that can be performed on array and matrices using this library."
   ]
  },
  {
   "cell_type": "markdown",
   "metadata": {},
   "source": [
    "##### Import NumPy and create a simple array\n"
   ]
  },
  {
   "cell_type": "code",
   "execution_count": 215,
   "metadata": {},
   "outputs": [
    {
     "name": "stdout",
     "output_type": "stream",
     "text": [
      "arr: [[1 2 3 4]]\n",
      "shape: (1, 4)\n"
     ]
    }
   ],
   "source": [
    "import numpy as np\n",
    "np.set_printoptions(precision=5)\n",
    "                      \n",
    "arr = np.array([[1,2,3,4]])\n",
    "print(f\"arr: {arr}\") \n",
    "print(f\"shape: {arr.shape}\") # with the shape attribute, we can see the dimension of the array (rows, columns)"
   ]
  },
  {
   "cell_type": "markdown",
   "metadata": {},
   "source": [
    "##### Transpose a matrix or an array"
   ]
  },
  {
   "cell_type": "code",
   "execution_count": 216,
   "metadata": {},
   "outputs": [
    {
     "name": "stdout",
     "output_type": "stream",
     "text": [
      "arrT: \n",
      "[[1]\n",
      " [2]\n",
      " [3]\n",
      " [4]],\n",
      "shape: (4, 1)\n"
     ]
    }
   ],
   "source": [
    "arrT = arr.T\n",
    "print(f\"arrT: \\n{arrT},\\nshape: {arrT.shape}\")"
   ]
  },
  {
   "cell_type": "markdown",
   "metadata": {},
   "source": [
    "##### Matrix Multiplication\n",
    "The `@` perform a matrix multiplication, so the order of the operands it is relevant. I reported here an example of multiplying $A^T A $ and $ A A^T$."
   ]
  },
  {
   "cell_type": "code",
   "execution_count": 217,
   "metadata": {},
   "outputs": [
    {
     "name": "stdout",
     "output_type": "stream",
     "text": [
      "[[ 1  2  3  4]\n",
      " [ 2  4  6  8]\n",
      " [ 3  6  9 12]\n",
      " [ 4  8 12 16]]\n",
      "[[30]]\n"
     ]
    }
   ],
   "source": [
    "print(arrT @ arr)\n",
    "\n",
    "print(arr @ arrT)"
   ]
  },
  {
   "cell_type": "markdown",
   "metadata": {},
   "source": [
    "##### Inverse of a Matrix"
   ]
  },
  {
   "cell_type": "code",
   "execution_count": 218,
   "metadata": {},
   "outputs": [
    {
     "name": "stdout",
     "output_type": "stream",
     "text": [
      "[[1 2]\n",
      " [3 4]]\n",
      "[[-2.   1. ]\n",
      " [ 1.5 -0.5]]\n",
      "[[1.00000e+00 1.11022e-16]\n",
      " [0.00000e+00 1.00000e+00]]\n"
     ]
    }
   ],
   "source": [
    "from numpy.linalg import inv # this operator is used to compute the inverse of a matrix\n",
    "\n",
    "square_mat = np.array([[1,2],[3,4]]) # create a 2x2 matrix\n",
    "print(square_mat)\n",
    "print(inv(square_mat)) # compute the inverse of the matrix\n",
    "print(square_mat @ inv(square_mat)) # compute the product of the matrix and its inverse (should be the identity matrix)"
   ]
  },
  {
   "cell_type": "markdown",
   "metadata": {},
   "source": [
    "##### Slicing\n",
    "\n",
    "Get an element, rows or columns from a matrix. Similar to MATLAB but remember that the indexes starts from 0."
   ]
  },
  {
   "cell_type": "code",
   "execution_count": 219,
   "metadata": {},
   "outputs": [
    {
     "name": "stdout",
     "output_type": "stream",
     "text": [
      "2\n",
      "[1 2]\n",
      "[2 4]\n"
     ]
    }
   ],
   "source": [
    "# get element at row 0, column 1\n",
    "print(square_mat[0,1])\n",
    "\n",
    "# get row 0\n",
    "print(square_mat[0,:])\n",
    "\n",
    "# get column 1\n",
    "print(square_mat[:,1])"
   ]
  },
  {
   "cell_type": "markdown",
   "metadata": {},
   "source": [
    "---\n",
    "## SymPy Usage\n",
    "\n",
    "SymPy is a Python library used for symbolic mathematics. It aims to become a full-featured computer algebra system while keeping the code as simple as possible in order to be comprehensible and easily extensible. SymPy includes features ranging from basic symbolic arithmetic to calculus, algebra, discrete mathematics and quantum physics.\n",
    "\n",
    "We will use this library to write measurement and motion models and to evaluate easily their Jacobians."
   ]
  },
  {
   "cell_type": "code",
   "execution_count": 220,
   "metadata": {},
   "outputs": [],
   "source": [
    "# Import the module and the most relevant functions\n",
    "import sympy\n",
    "sympy.init_printing(use_latex='mathjax')\n",
    "from sympy import symbols, Matrix, latex"
   ]
  },
  {
   "cell_type": "code",
   "execution_count": 221,
   "metadata": {},
   "outputs": [
    {
     "data": {
      "text/latex": [
       "$\\displaystyle \\left[\\begin{matrix}\\frac{2 a}{d}\\\\b \\sin{\\left(c \\right)}\\end{matrix}\\right]$"
      ],
      "text/plain": [
       "⎡  2⋅a   ⎤\n",
       "⎢  ───   ⎥\n",
       "⎢   d    ⎥\n",
       "⎢        ⎥\n",
       "⎣b⋅sin(c)⎦"
      ]
     },
     "execution_count": 221,
     "metadata": {},
     "output_type": "execute_result"
    }
   ],
   "source": [
    "# Create the symbolic variables\n",
    "a, b, c, d = symbols('a b c d')\n",
    "\n",
    "# Create a Matrix using the symbolic variables\n",
    "my_matrix = Matrix([[2*a/d], [b*sympy.sin(c)]])\n",
    "my_matrix"
   ]
  },
  {
   "cell_type": "code",
   "execution_count": 222,
   "metadata": {},
   "outputs": [
    {
     "data": {
      "text/latex": [
       "$\\displaystyle \\left[\\begin{matrix}\\frac{2}{d} & 0 & 0 & - \\frac{2 a}{d^{2}}\\\\0 & \\sin{\\left(c \\right)} & b \\cos{\\left(c \\right)} & 0\\end{matrix}\\right]$"
      ],
      "text/plain": [
       "⎡2                    -2⋅a ⎤\n",
       "⎢─    0        0      ─────⎥\n",
       "⎢d                       2 ⎥\n",
       "⎢                       d  ⎥\n",
       "⎢                          ⎥\n",
       "⎣0  sin(c)  b⋅cos(c)    0  ⎦"
      ]
     },
     "execution_count": 222,
     "metadata": {},
     "output_type": "execute_result"
    }
   ],
   "source": [
    "# Compute the Jacobian of the matrix with respect to a vector\n",
    "jac = my_matrix.jacobian(Matrix([a, b, c, d]))\n",
    "jac"
   ]
  },
  {
   "cell_type": "code",
   "execution_count": 223,
   "metadata": {},
   "outputs": [
    {
     "data": {
      "text/plain": [
       "array([[0.5    ],\n",
       "       [0.28224]])"
      ]
     },
     "execution_count": 223,
     "metadata": {},
     "output_type": "execute_result"
    }
   ],
   "source": [
    "# Transform the symbolic Matrix in a function that can be evaluated numerically\n",
    "eval_my_matrix = sympy.lambdify((a, b, c, d), my_matrix, 'numpy')\n",
    "eval_my_matrix(a=1, b=2, c=3, d=4) # also eval_my_matrix(1, 2, 3, 4)"
   ]
  },
  {
   "cell_type": "code",
   "execution_count": 224,
   "metadata": {},
   "outputs": [
    {
     "data": {
      "text/plain": [
       "array([[ 0.5    ,  0.     ,  0.     , -0.125  ],\n",
       "       [ 0.     ,  0.14112, -1.97998,  0.     ]])"
      ]
     },
     "execution_count": 224,
     "metadata": {},
     "output_type": "execute_result"
    }
   ],
   "source": [
    "# Ypu can do the same for the Jacobian\n",
    "eval_jac = sympy.lambdify((a, b, c, d), jac, 'numpy')\n",
    "eval_jac(1, 2, 3, 4)"
   ]
  },
  {
   "cell_type": "markdown",
   "metadata": {},
   "source": [
    "---\n",
    "## Velocity Motion Model\n",
    "\n",
    "Using the SymPy library implement the Velocity Motion Model that is explained in the lecture slides. For clearness the main equation of the model is reported below.\n",
    "\n",
    "$$\n",
    "\\begin{pmatrix} x' \\\\ y' \\\\ \\theta' \\end{pmatrix} = g(u_t,x_{t-1}) + \\mathcal{N}(0, R_t)= \n",
    "\\begin{pmatrix} x \\\\ y \\\\ \\theta \\end{pmatrix} + \n",
    "\\begin{pmatrix} \n",
    "- \\frac{v_t}{\\omega_t }\\sin{\\theta} + \\frac{v_t}{\\omega_t }\\sin{( \\theta + \\omega_t \\Delta t )} \\\\\n",
    "\\frac{v_t}{\\omega_t }\\cos{\\theta} - \\frac{v_t}{\\omega_t }\\cos{(\\theta + \\omega_t \\Delta t)} \\\\\n",
    "\\omega_t \\Delta t\n",
    "\\end{pmatrix} + \\mathcal{N}(0, R_t)\n",
    "$$\n",
    "\n",
    "Then, use the function provided by SymPy to derive the Jacobian matrices w.r.t the state $G_t$ and the input $V_t$ and create a function to evaluate it."
   ]
  },
  {
   "cell_type": "code",
   "execution_count": 225,
   "metadata": {},
   "outputs": [
    {
     "data": {
      "text/latex": [
       "$\\displaystyle \\left( \\left[\\begin{matrix}- \\frac{v \\sin{\\left(\\theta \\right)}}{w} + \\frac{v \\sin{\\left(dt w + \\theta \\right)}}{w} + x\\\\\\frac{v \\cos{\\left(\\theta \\right)}}{w} - \\frac{v \\cos{\\left(dt w + \\theta \\right)}}{w} + y\\\\dt w + \\theta\\end{matrix}\\right], \\  \\left[\\begin{matrix}x\\\\y\\\\\\theta\\end{matrix}\\right]\\right)$"
      ],
      "text/plain": [
       "⎛⎡  v⋅sin(θ)   v⋅sin(dt⋅w + θ)    ⎤     ⎞\n",
       "⎜⎢- ──────── + ─────────────── + x⎥     ⎟\n",
       "⎜⎢     w              w           ⎥  ⎡x⎤⎟\n",
       "⎜⎢                                ⎥  ⎢ ⎥⎟\n",
       "⎜⎢ v⋅cos(θ)   v⋅cos(dt⋅w + θ)     ⎥, ⎢y⎥⎟\n",
       "⎜⎢ ──────── - ─────────────── + y ⎥  ⎢ ⎥⎟\n",
       "⎜⎢    w              w            ⎥  ⎣θ⎦⎟\n",
       "⎜⎢                                ⎥     ⎟\n",
       "⎝⎣            dt⋅w + θ            ⎦     ⎠"
      ]
     },
     "execution_count": 225,
     "metadata": {},
     "output_type": "execute_result"
    }
   ],
   "source": [
    "\n",
    "x, y, theta, v, w, dt = symbols('x y theta v w dt')\n",
    "u_t = Matrix([v, w])\n",
    "gux = Matrix([\n",
    "        x,\n",
    "        y,\n",
    "        theta,\n",
    "    ])+\\\n",
    "    Matrix([\n",
    "        - (v/w) * sympy.sin(theta) + (v/w) * sympy.sin(theta + w * dt),\n",
    "        + (v/w) * sympy.cos(theta) - (v/w) * sympy.cos(theta + w * dt),\n",
    "        + w * dt\n",
    "    ])\n",
    "\n",
    "# Define the state vector x_t\n",
    "x_t = sympy.Matrix([x, y, theta])\n",
    "\n",
    "gux, x_t"
   ]
  },
  {
   "cell_type": "code",
   "execution_count": 226,
   "metadata": {},
   "outputs": [],
   "source": [
    "eval_gux = sympy.lambdify((x, y, theta, v, w, dt), gux, 'numpy')"
   ]
  },
  {
   "cell_type": "code",
   "execution_count": 227,
   "metadata": {},
   "outputs": [
    {
     "data": {
      "text/latex": [
       "$\\displaystyle \\left( \\left[\\begin{matrix}1 & 0 & - \\frac{v \\cos{\\left(\\theta \\right)}}{w} + \\frac{v \\cos{\\left(dt w + \\theta \\right)}}{w}\\\\0 & 1 & - \\frac{v \\sin{\\left(\\theta \\right)}}{w} + \\frac{v \\sin{\\left(dt w + \\theta \\right)}}{w}\\\\0 & 0 & 1\\end{matrix}\\right], \\  \\left[\\begin{matrix}- \\frac{\\sin{\\left(\\theta \\right)}}{w} + \\frac{\\sin{\\left(dt w + \\theta \\right)}}{w} & \\frac{dt v \\cos{\\left(dt w + \\theta \\right)}}{w} + \\frac{v \\sin{\\left(\\theta \\right)}}{w^{2}} - \\frac{v \\sin{\\left(dt w + \\theta \\right)}}{w^{2}}\\\\\\frac{\\cos{\\left(\\theta \\right)}}{w} - \\frac{\\cos{\\left(dt w + \\theta \\right)}}{w} & \\frac{dt v \\sin{\\left(dt w + \\theta \\right)}}{w} - \\frac{v \\cos{\\left(\\theta \\right)}}{w^{2}} + \\frac{v \\cos{\\left(dt w + \\theta \\right)}}{w^{2}}\\\\0 & dt\\end{matrix}\\right]\\right)$"
      ],
      "text/plain": [
       "⎛                                      ⎡  sin(θ)   sin(dt⋅w + θ)  dt⋅v⋅cos(dt⋅\n",
       "⎜⎡        v⋅cos(θ)   v⋅cos(dt⋅w + θ)⎤  ⎢- ────── + ─────────────  ────────────\n",
       "⎜⎢1  0  - ──────── + ───────────────⎥  ⎢    w            w                w   \n",
       "⎜⎢           w              w       ⎥  ⎢                                      \n",
       "⎜⎢                                  ⎥  ⎢                                      \n",
       "⎜⎢        v⋅sin(θ)   v⋅sin(dt⋅w + θ)⎥, ⎢ cos(θ)   cos(dt⋅w + θ)   dt⋅v⋅sin(dt⋅\n",
       "⎜⎢0  1  - ──────── + ───────────────⎥  ⎢ ────── - ─────────────   ────────────\n",
       "⎜⎢           w              w       ⎥  ⎢   w            w                 w   \n",
       "⎜⎢                                  ⎥  ⎢                                      \n",
       "⎜⎣0  0               1              ⎦  ⎢                                      \n",
       "⎝                                      ⎣           0                          \n",
       "\n",
       "w + θ)   v⋅sin(θ)   v⋅sin(dt⋅w + θ)⎤⎞\n",
       "────── + ──────── - ───────────────⎥⎟\n",
       "             2              2      ⎥⎟\n",
       "            w              w       ⎥⎟\n",
       "                                   ⎥⎟\n",
       "w + θ)   v⋅cos(θ)   v⋅cos(dt⋅w + θ)⎥⎟\n",
       "────── - ──────── + ───────────────⎥⎟\n",
       "             2              2      ⎥⎟\n",
       "            w              w       ⎥⎟\n",
       "                                   ⎥⎟\n",
       "          dt                       ⎦⎠"
      ]
     },
     "execution_count": 227,
     "metadata": {},
     "output_type": "execute_result"
    }
   ],
   "source": [
    "Gt = gux.jacobian(x_t)\n",
    "eval_Gt = sympy.lambdify((x, y, theta, v, w, dt), Gt, 'numpy')\n",
    "Vt = gux.jacobian(u_t)\n",
    "eval_Vt = sympy.lambdify((x, y, theta, v, w, dt), Vt, 'numpy')\n",
    "\n",
    "Gt, Vt"
   ]
  },
  {
   "cell_type": "markdown",
   "metadata": {},
   "source": [
    "---\n",
    "## Landmarks Measurement Model\n",
    "\n",
    "As a measurement model we will use **landmarks** described by distance and bearing w.r.t. the robot current pose.\n",
    "\n",
    "$$\n",
    "h(x, m) = \n",
    "\\left(\n",
    "    \\begin{matrix}\n",
    "    \\sqrt{\\left(m_x - x\\right)^{2} + \\left(m_y - y\\right)^{2}}\\\\\n",
    "    \\operatorname{atan2}{\\left(m_y - y,m_x - x \\right)} - \\theta\n",
    "    \\end{matrix}\n",
    "\\right)\n",
    "$$\n",
    "\n",
    "Write in the following cell the code to compute the measurement and its Jacobian w.r.t. to the state. Remember to convert the symbolic functions to Python functions that can be evaluated as done in the previous step."
   ]
  },
  {
   "cell_type": "code",
   "execution_count": 228,
   "metadata": {},
   "outputs": [],
   "source": [
    "from sympy import sqrt\n",
    "from sympy import atan2\n",
    "\n",
    "x, y, theta, m_x, m_y = symbols('x y theta m_x m_y')"
   ]
  },
  {
   "cell_type": "code",
   "execution_count": 229,
   "metadata": {},
   "outputs": [
    {
     "data": {
      "text/latex": [
       "$\\displaystyle \\left[\\begin{matrix}\\sqrt{\\left(m_{x} - x\\right)^{2} + \\left(m_{y} - y\\right)^{2}}\\\\- \\theta + \\operatorname{atan_{2}}{\\left(m_{y} - y,m_{x} - x \\right)}\\end{matrix}\\right]$"
      ],
      "text/plain": [
       "⎡   ________________________⎤\n",
       "⎢  ╱         2            2 ⎥\n",
       "⎢╲╱  (mₓ - x)  + (m_y - y)  ⎥\n",
       "⎢                           ⎥\n",
       "⎣-θ + atan2(m_y - y, mₓ - x)⎦"
      ]
     },
     "execution_count": 229,
     "metadata": {},
     "output_type": "execute_result"
    }
   ],
   "source": [
    "hx = Matrix([\n",
    "        sqrt((m_x - x)**2 + (m_y - y)**2),\n",
    "        atan2(m_y - y, m_x - x) - theta\n",
    "])\n",
    "eval_hx = sympy.lambdify((x, y, m_x, m_y, theta), hx, 'numpy')\n",
    "\n",
    "hx"
   ]
  },
  {
   "cell_type": "code",
   "execution_count": 230,
   "metadata": {},
   "outputs": [
    {
     "data": {
      "text/latex": [
       "$\\displaystyle \\left[\\begin{matrix}\\frac{- m_{x} + x}{\\sqrt{\\left(m_{x} - x\\right)^{2} + \\left(m_{y} - y\\right)^{2}}} & \\frac{- m_{y} + y}{\\sqrt{\\left(m_{x} - x\\right)^{2} + \\left(m_{y} - y\\right)^{2}}} & 0\\\\- \\frac{- m_{y} + y}{\\left(m_{x} - x\\right)^{2} + \\left(m_{y} - y\\right)^{2}} & - \\frac{m_{x} - x}{\\left(m_{x} - x\\right)^{2} + \\left(m_{y} - y\\right)^{2}} & -1\\end{matrix}\\right]$"
      ],
      "text/plain": [
       "⎡          -mₓ + x                      -m_y + y             ⎤\n",
       "⎢───────────────────────────  ───────────────────────────  0 ⎥\n",
       "⎢   ________________________     ________________________    ⎥\n",
       "⎢  ╱         2            2     ╱         2            2     ⎥\n",
       "⎢╲╱  (mₓ - x)  + (m_y - y)    ╲╱  (mₓ - x)  + (m_y - y)      ⎥\n",
       "⎢                                                            ⎥\n",
       "⎢       -(-m_y + y)                   -(mₓ - x)              ⎥\n",
       "⎢  ──────────────────────       ──────────────────────     -1⎥\n",
       "⎢          2            2               2            2       ⎥\n",
       "⎣  (mₓ - x)  + (m_y - y)        (mₓ - x)  + (m_y - y)        ⎦"
      ]
     },
     "execution_count": 230,
     "metadata": {},
     "output_type": "execute_result"
    }
   ],
   "source": [
    "Ht = hx.jacobian(x_t)\n",
    "eval_Ht = sympy.lambdify((x, y, m_x, m_y, theta), Ht, 'numpy')\n",
    "\n",
    "Ht"
   ]
  },
  {
   "cell_type": "markdown",
   "metadata": {},
   "source": [
    "---\n",
    "## EKF Implementation\n",
    "\n",
    "Complete the `RobotEKF` Class with the filter equations where you find the symbol `...`\n"
   ]
  },
  {
   "cell_type": "markdown",
   "metadata": {},
   "source": [
    "#### Filter Initialization\n",
    "\n",
    "In the function `__init__` the filter is initialized given the dimensions of the state `dim_x`, of the input `dim_u` and of the measurement `dim_z`.\n",
    "\n",
    "You must pass as arguments:\n",
    "- `dim_x`: the dimension of the state vector\n",
    "- `dim_z`: the dimension of the measurement vector\n",
    "- `dim_u`: the dimension of the input vector\n",
    "- `eval_gux`, `eval_Gt`, `eval_Vt`: the functions to evaluate the motion model and it Jacobians\n",
    "- `eval_hx`, `eval_Ht`: the functions to evaluate the measurement model and its Jacobian"
   ]
  },
  {
   "cell_type": "code",
   "execution_count": 231,
   "metadata": {},
   "outputs": [],
   "source": [
    "import math\n",
    "\n",
    "\n",
    "class RobotEKF:\n",
    "    def __init__(\n",
    "        self,\n",
    "        dim_x=1, dim_z=1, dim_u=1,\n",
    "        eval_gux=None, eval_Gt=None, eval_Vt=None,\n",
    "        eval_hx=None, eval_Ht=None,\n",
    "    ):\n",
    "        \"\"\"\n",
    "        Initializes the extended Kalman filter creating the necessary matrices\n",
    "        \"\"\"\n",
    "        self.mu = np.zeros((dim_x, 1))  # mean state estimate\n",
    "        self.Sigma = np.eye(dim_x)  # covariance state estimate\n",
    "        self.Mt = np.eye(dim_u)  # process noise\n",
    "        self.Qt = np.eye(dim_z)  # measurement noise\n",
    "\n",
    "        self.eval_gux = eval_gux\n",
    "        self.eval_Gt = eval_Gt\n",
    "        self.eval_Vt = eval_Vt\n",
    "\n",
    "        self.eval_hx = eval_hx\n",
    "        self.eval_Ht = eval_Ht\n",
    "\n",
    "        self._I = np.eye(dim_x)  # identity matrix used for computations"
   ]
  },
  {
   "cell_type": "markdown",
   "metadata": {},
   "source": [
    "#### Prediction Step\n",
    "\n",
    "The function `predict` implement the prediction step of the EKF given an input and a time interval.\n",
    "\n",
    "Complete where you find the symbol `...` using the equations of the EKF\n",
    "\n",
    "$$\n",
    "\\begin{aligned}\n",
    "\\bar{\\mu}_t =& g(u_t, \\mu_{t-1}) \\\\\n",
    "\\bar{\\Sigma}_t =& G_t \\Sigma_{t-1} G_t^T + V_t M_t V_t^T\n",
    "\\end{aligned}\n",
    "$$\n",
    "\n",
    "  The argument `g_extra_args` is a tuple of all the arguments different from $\\mu_{t-1}$ and $u_t$ to evaluate the motion model, e.g. $\\Delta t$ for the velocity motion model.\n"
   ]
  },
  {
   "cell_type": "code",
   "execution_count": 232,
   "metadata": {},
   "outputs": [],
   "source": [
    "def predict(self, u, g_extra_args=(dt)):\n",
    "    \"\"\"\n",
    "    Update the state prediction using the control input u and compute the relative uncertainty ellipse\n",
    "\n",
    "    Modified variables:\n",
    "        self.mu: the state prediction\n",
    "        self.Sigma: the covariance matrix of the state prediction\n",
    "    \"\"\"\n",
    "    # Update the state prediction evaluating the motion model\n",
    "    mu = self.mu.flatten()\n",
    "    if len(u) == 2:\n",
    "        self.mu = self.eval_gux(v = u[0],w = u[1], x = mu[0], y=mu[1], theta=mu[2], dt= np.array(g_extra_args))\n",
    "        # Update the covariance matrix of the state prediction, \n",
    "        # you need to evaluate the Jacobians Gt and Vt\n",
    "        Gt = self.eval_Gt(v = u[0],w = u[1], x = mu[0], y=mu[1], theta=mu[2], dt= np.array(g_extra_args))\n",
    "        Vt = self.eval_Vt(v = u[0],w = u[1], x = mu[0], y=mu[1], theta=mu[2], dt= np.array(g_extra_args))\n",
    "    elif len(u) == 3:\n",
    "        self.mu = self.eval_gux(delta_rot1 = u[0],delta_trasl = u[1],delta_rot2=u[2], x = mu[0], y=mu[1], theta=mu[2])\n",
    "        # Update the covariance matrix of the state prediction, \n",
    "        # you need to evaluate the Jacobians Gt and Vt\n",
    "        Gt = self.eval_Gt(delta_rot1 = u[0],delta_trasl = u[1],delta_rot2=u[2], x = mu[0], y=mu[1], theta=mu[2]).astype('float64')\n",
    "        Vt = self.eval_Vt(delta_rot1 = u[0],delta_trasl = u[1],delta_rot2=u[2], x = mu[0], y=mu[1], theta=mu[2]).astype('float64')\n",
    "\n",
    "    self.Sigma = Gt @ self.Sigma @ Gt.T + Vt @ self.Mt @ Vt.T\n",
    "\n",
    "RobotEKF.predict = predict"
   ]
  },
  {
   "cell_type": "markdown",
   "metadata": {},
   "source": [
    "#### Measurement Update Step\n",
    "\n",
    "The function `update` compute the posterior of the filter given a measure `z`, a measurement model `hx` and its Jacobian `H`.\n",
    "\n",
    "Complete the function where you find the symbol `...` with the posterior update equations of the EKF.\n",
    "\n",
    "$$\n",
    "\\begin{aligned}\n",
    "S_t^i &= H_t^i \\bar{\\Sigma}_t [H_t^i]^T + Q_t \\\\\n",
    "K_i^t &= \\bar{\\Sigma}_t [H_t^i]^T [S_t^i]^{-1} \\\\\n",
    "\\mu_t &= \\bar{\\mu}_t + K^i_t(z^i_t - \\hat{z}_t^i) \\\\\n",
    "\\Sigma_t &= (I - K^i_t H^i_t) \\bar{\\Sigma}_t\n",
    "\\end{aligned}\n",
    "$$\n",
    "\n",
    "The argument `h_extra_args` is a tuple of all the arguments different from $\\bar \\mu_t$ to evaluate the measurement model, e.g. the landmark position."
   ]
  },
  {
   "cell_type": "code",
   "execution_count": 233,
   "metadata": {},
   "outputs": [],
   "source": [
    "def update(self, z, lmark, residual=np.subtract):\n",
    "    \"\"\"Performs the update innovation of the extended Kalman filter.\n",
    "\n",
    "    Parameters\n",
    "    ----------\n",
    "\n",
    "    z : np.array\n",
    "        measurement for this step.\n",
    "\n",
    "    lmark : [x, y] list-like\n",
    "        Landmark location in cartesian coordinates.\n",
    "\n",
    "    residual : function (z, z2), optional\n",
    "        Optional function that computes the residual (difference) between\n",
    "        the two measurement vectors. If you do not provide this, then the\n",
    "        built in minus operator will be used. You will normally want to use\n",
    "        the built in unless your residual computation is nonlinear (for\n",
    "        example, if they are angles)\n",
    "    \"\"\"\n",
    "    \n",
    "    # Convert the measurement to a vector if necessary. Needed for the residual computation\n",
    "    if np.isscalar(z) and self.dim_z == 1:\n",
    "        z = np.asarray([z], float)\n",
    "        \n",
    "    # Compute the Kalman gain, you need to evaluate the Jacobian Ht\n",
    "    mu = self.mu.flatten()\n",
    "    Ht = self.eval_Ht(m_x=lmark[0], m_y = lmark[1], x = mu[0], y= mu[1], theta = mu[2]).astype('float64')\n",
    "    self.S = ((Ht @ self.Sigma @ Ht.T) + self.Qt).astype('float64')\n",
    "    self.K = (self.Sigma @ Ht.T @ inv(self.S)).astype('float64')\n",
    "\n",
    "    # Evaluate the expected measurement and compute the residual, then update the state prediction\n",
    "    z_hat = self.eval_hx(m_x=lmark[0], m_y = lmark[1], x = mu[0], y= mu[1], theta = mu[2]).astype('float64')\n",
    "    self.y = (z - z_hat).astype('float64')\n",
    "    self.mu = (self.mu + (self.K @ self.y)).astype('float64')\n",
    "\n",
    "    # P = (I-KH)P(I-KH)' + KRK' is more numerically stable and works for non-optimal K vs the equation\n",
    "    # P = (I-KH)P usually seen in the literature. \n",
    "    # Note that I is the identity matrix.\n",
    "    I_KH = (np.eye(Ht.shape[1]) - (self.K @ Ht)).astype('float64')\n",
    "    self.Sigma = ((I_KH @ self.Sigma @ I_KH.T)+ (self.K @ self.Qt @ (self.K).T)).astype('float64')\n",
    "\n",
    "RobotEKF.update = update\n"
   ]
  },
  {
   "cell_type": "markdown",
   "metadata": {},
   "source": [
    "---\n",
    "## Measurement Simulator\n",
    "\n",
    "This function simulate the measurement of a landmark adding noise to the value computed with the measurement model. \n",
    "\n",
    "The sensor has a Field of View (FOV) of 180° and a maximum range of 15 meters, i.e. only the landmarks reasonably in the robot's view can be used to correct the filter.\n",
    "\n",
    "Fill the `...` with the arguments to evaluate the function."
   ]
  },
  {
   "cell_type": "code",
   "execution_count": 234,
   "metadata": {},
   "outputs": [],
   "source": [
    "from numpy.random import randn # function to get a random number from a Gaussian distribution\n",
    "\n",
    "def z_landmark(x, lmark, std_rng=0.5, std_brg=0.5):\n",
    "    \"\"\"\n",
    "    Simulate the measurement of a landmark adding some Gaussian noise\n",
    "\n",
    "    Args:\n",
    "        x [np.array]: the position of the robot with shape (dim_x, 1)\n",
    "        lmark [np.array or List]: the position of the landmark, eg. [x, y]\n",
    "        std_rng [float]: the standard deviation of the range measurement\n",
    "        std_brg [float]: the standard deviation of the bearing measurement\n",
    "    Returns:\n",
    "        z [np.array]: the measurement of the landmark\n",
    "    \"\"\"\n",
    "    x = x.flatten().astype('float64')\n",
    "    z = eval_hx(x= x[0], y= x[1], m_x= lmark[0], m_y= lmark[1], theta = x[2]).astype('float64')\n",
    "    \n",
    "    # filter z for a more realistic sensor simulation (add a max range distance and a FOV)\n",
    "    fov = np.deg2rad(45)\n",
    "    if z[0, 0] < 8.0 and abs(z[1, 0])<fov:\n",
    "        return z + np.array([[randn() * std_rng**2, randn() * std_brg]]).T\n",
    "        \n",
    "    return None"
   ]
  },
  {
   "cell_type": "markdown",
   "metadata": {},
   "source": [
    "Now we have another issue to handle. The residual is notionally computed as $y = z - h(x)$ but this will not work because our measurement contains an angle in it. Suppose z has a bearing of $1^\\circ$ and $h(x)$ has a bearing of $359^\\circ$. Naively subtracting them would yield a angular difference of $-358^\\circ$, whereas the correct value is $2^\\circ$. We have to write code to correctly compute the bearing residual."
   ]
  },
  {
   "cell_type": "code",
   "execution_count": 235,
   "metadata": {},
   "outputs": [],
   "source": [
    "def residual(a, b):\n",
    "    \"\"\"\n",
    "    Compute the residual between measuremnts, normalizing angles between [-pi, pi)\n",
    "\n",
    "    Returns:\n",
    "        y [np.array] : the residual between the two states\n",
    "    \"\"\"\n",
    "    y = a - b\n",
    "    y[1] = y[1] % (2 * np.pi)  # force in range [0, 2 pi)\n",
    "    if y[1] > np.pi:  # move to [-pi, pi)\n",
    "        y[1] -= 2 * np.pi\n",
    "    return y"
   ]
  },
  {
   "cell_type": "markdown",
   "metadata": {},
   "source": [
    "---\n",
    "<a id='simulator1'></a>\n",
    "\n",
    "## Simulator\n",
    "\n",
    "The following function implements a simple simulator that you can use to test your filters. It deals with three tasks:\n",
    "\n",
    "- **simulate the robot** evaluating the motion model at a frequency higher w.r.t. the update rate of the EKF, defined by the parameter `sim_step_s`\n",
    "- **run the EKF** at its expected frequency `ekf_dt`\n",
    "- **plot** the simulated (real) path and the positions estimated by the EKF with the prior and posterior covariances\n",
    "\n",
    "Complete the functions where you find `...`"
   ]
  },
  {
   "cell_type": "code",
   "execution_count": 236,
   "metadata": {},
   "outputs": [],
   "source": [
    "from utils import plot_covariance\n",
    "import matplotlib.pyplot as plt\n",
    "\n",
    "\n",
    "def run_localization(\n",
    "    ekf: RobotEKF,\n",
    "    ekf_dt,\n",
    "    landmarks,\n",
    "    std_lin_vel,\n",
    "    std_ang_vel,\n",
    "    std_range,\n",
    "    std_bearing,\n",
    "    sim_step_s=0.1,\n",
    "    ellipse_step_s=5.0,\n",
    "    sim_length_s=1,\n",
    "):\n",
    "    sim_pos = ekf.mu.copy()  # simulated position, copy the initial position set inside the EKF\n",
    "    odom_pos = ekf.mu.copy()  # odometry position, copy the initial position set inside the EKF\n",
    "    sim_noise_generator = np.random.default_rng(42424242)  # random noise generator\n",
    "\n",
    "    cmd_vel = np.array(\n",
    "        [[1.10, 0.05]]\n",
    "    ).T  # velocity command (v, omega). In this case will be constant for the whole simulation\n",
    "\n",
    "    # convert the durations to number of time steps\n",
    "    steps = int(sim_length_s / sim_step_s)\n",
    "    ekf_step = int(ekf_dt / sim_step_s)\n",
    "    ellipse_step = int(ellipse_step_s / sim_step_s)\n",
    "\n",
    "    # Initialize a plot and insert the landmarks\n",
    "    fig, ax = plt.subplots(1, 2, figsize=(9, 4))\n",
    "    lmarks_legend = ax[0].scatter(landmarks[:, 0], landmarks[:, 1], marker=\"s\", s=60, label=\"Landmarks\")\n",
    "\n",
    "    track = []  # list to store all the robot positions\n",
    "    track_odom = []  # list to store all the odometry positions\n",
    "    track_ekf = [ekf.mu.copy()]  # list to store all the ekf positions\n",
    "\n",
    "    # The main loop that runs the simulation\n",
    "    for i in range(steps):\n",
    "        # to simulate the error in the actuation of the robot, we add some Gaussian noise to the velocity command\n",
    "        noisy_vel = cmd_vel + np.array([[std_lin_vel, std_ang_vel]]).T * sim_noise_generator.normal(size=(2, 1))\n",
    "        # Simulate robot motion for sim_step_s seconds using the Velocity Motion Model.\n",
    "        # Complete with the correct data to evaluate the motion model, use the noisy_vel variable\n",
    "        sim_pos = eval_gux(x = sim_pos.flatten()[0], y= sim_pos.flatten()[1], theta=sim_pos.flatten()[2], v= noisy_vel.flatten()[0], w= noisy_vel.flatten()[1], dt=sim_step_s) \n",
    "        track.append(sim_pos)\n",
    "\n",
    "        # to simulate the error in the odometry reading, we take another Gaussian sample of the velocity command\n",
    "        noisy_vel = cmd_vel + np.array([[std_lin_vel, std_ang_vel]]).T * sim_noise_generator.normal(size=(2, 1))\n",
    "        # complete with the correct data to evaluate the motion model, use the noisy_vel variable\n",
    "        odom_pos = eval_gux(x = odom_pos.flatten()[0], y= odom_pos.flatten()[1], theta=odom_pos.flatten()[2], v= noisy_vel.flatten()[0], w= noisy_vel.flatten()[1], dt=sim_step_s)\n",
    "        track_odom.append(odom_pos)\n",
    "\n",
    "        if i % ekf_step == 0 and i != 0:  # only update ekf at dt intervals\n",
    "            # run the prediction step of the EKF\n",
    "            ekf.predict(u=cmd_vel.flatten(), g_extra_args=(ekf_dt))\n",
    "\n",
    "            if i % ellipse_step == 0:  # plot the prior covariance ellipses every ellipse_step_s seconds\n",
    "                pri_ellipse = plot_covariance(\n",
    "                    (ekf.mu[0, 0], ekf.mu[1, 0]),\n",
    "                    ekf.Sigma[0:2, 0:2],\n",
    "                    std=6,\n",
    "                    facecolor=\"k\",\n",
    "                    alpha=0.4,\n",
    "                    label=\"Predicted Cov\",\n",
    "                    ax=ax[0],\n",
    "                )\n",
    "\n",
    "            for lmark in landmarks:  # loop over each landmark\n",
    "                z = z_landmark(sim_pos, lmark, std_range, std_bearing)  # simulate the measurement of the landmark\n",
    "\n",
    "                # if any landmark detected by the sensor, update the EKF\n",
    "                if z is not None:\n",
    "                    # run the correction step of the EKF\n",
    "                    ekf.update(z, lmark, residual=residual)\n",
    "\n",
    "            if i % ellipse_step == 0:  # plot the posterior covariance ellipses every ellipse_step_s seconds\n",
    "                post_ellipse = plot_covariance(\n",
    "                    (ekf.mu[0, 0], ekf.mu[1, 0]),\n",
    "                    ekf.Sigma[0:2, 0:2],\n",
    "                    std=6,\n",
    "                    facecolor=\"g\",\n",
    "                    alpha=0.8,\n",
    "                    label=\"Corrected Cov\",\n",
    "                    ax=ax[0],\n",
    "                )\n",
    "            track_ekf.append(ekf.mu.copy())\n",
    "\n",
    "    # draw plots\n",
    "    track = np.array(track)\n",
    "    track_odom = np.array(track_odom)\n",
    "    track_ekf = np.array(track_ekf)\n",
    "    \n",
    "    # trajectory plots\n",
    "    (track_legend,) = ax[0].plot(track[:, 0], track[:, 1], label=\"Real robot path\")\n",
    "    (track_odom_legend,) = ax[0].plot(track_odom[:, 0], track_odom[:, 1], \"--\", label=\"Odometry path\")\n",
    "    ax[0].axis(\"equal\")\n",
    "    ax[0].set_title(\"EKF Robot localization\")\n",
    "    ax[0].legend(handles=[lmarks_legend, track_legend, track_odom_legend, pri_ellipse, post_ellipse])\n",
    "\n",
    "    # error plots\n",
    "    ekf_err, =  ax[1].plot(\n",
    "        np.arange(0, sim_length_s, ekf_dt), \n",
    "        np.linalg.norm(track[::ekf_step, :2] - track_ekf[:, :2], axis=1), \n",
    "        '-o',\n",
    "        label=\"EKF error\",\n",
    "    )\n",
    "    odom_err, = ax[1].plot(\n",
    "        np.arange(0, sim_length_s, sim_step_s), \n",
    "        np.linalg.norm(track[:, :2] - track_odom[:, :2], axis=1), \n",
    "        label=\"Odometry error\",\n",
    "    )\n",
    "    ax[1].legend(handles=[ekf_err, odom_err])\n",
    "    ax[1].set_title(\"Robot path error\")\n",
    "\n",
    "    fig.suptitle(\"EKF Robot localization, Velocity Motion Model\")\n",
    "    fig.tight_layout()\n",
    "\n",
    "    plt.show()"
   ]
  },
  {
   "cell_type": "markdown",
   "metadata": {},
   "source": [
    "### Run the simulation\n",
    "Here it an example of how to run the simulation. \n",
    "- Create a vector of landmarks positions\n",
    "- Call the function that run the simulation passing all the arguments\n",
    "\n",
    "To test if your code is working properly, run the code below without changing parameters. The expected output is reported below.\n",
    "\n",
    "\n",
    "![Expected Output](./expected_output.png)"
   ]
  },
  {
   "cell_type": "code",
   "execution_count": 237,
   "metadata": {},
   "outputs": [],
   "source": [
    "# Parameters\n",
    "seed = 42  # because it is the answer to the Ultimate Question of Life, The Universe and Everything :)\n",
    "\n",
    "landmarks = np.array([[5, 12], [10, 5], [15, 15], [10, 14], [6, 6], [12, 9]])  # standard landmarks\n",
    "\n",
    "ekf_dt = 1.0  # time interval between measurements [s]\n",
    "sim_length_s = 15  # length of the simulation [s]\n",
    "\n",
    "# set the seed to get the same results every time\n",
    "std_lin_vel = 0.1  # [m/s]\n",
    "std_ang_vel = np.deg2rad(1.0)  # [rad/s]\n",
    "std_range = 0.3  # [m]\n",
    "std_bearing = np.deg2rad(1.0)  # [rad]"
   ]
  },
  {
   "cell_type": "code",
   "execution_count": 238,
   "metadata": {},
   "outputs": [
    {
     "data": {
      "image/png": "[encoded data removed]",
      "text/plain": [
       "<Figure size 900x400 with 2 Axes>"
      ]
     },
     "metadata": {},
     "output_type": "display_data"
    }
   ],
   "source": [
    "# set the seed to get the same results every time\n",
    "np.random.seed(seed)\n",
    "\n",
    "# Initialize the EKF\n",
    "ekf = RobotEKF(\n",
    "    dim_x=3,\n",
    "    dim_z=2,\n",
    "    dim_u=2,\n",
    "    eval_gux=eval_gux,\n",
    "    eval_Gt=eval_Gt,\n",
    "    eval_Vt=eval_Vt,\n",
    "    eval_hx=eval_hx,\n",
    "    eval_Ht=eval_Ht,\n",
    ")\n",
    "ekf.mu = np.array([[2, 6, 0.3]]).T  # x, y, theta\n",
    "ekf.Sigma = np.diag([0.1, 0.1, 0.1])\n",
    "ekf.Mt = np.diag([std_lin_vel**2, std_ang_vel**2])\n",
    "ekf.Qt = np.diag([std_range**2, std_bearing**2])\n",
    "\n",
    "\n",
    "run_localization(\n",
    "    ekf,\n",
    "    ekf_dt=ekf_dt,\n",
    "    landmarks=landmarks,\n",
    "    std_lin_vel=std_lin_vel,\n",
    "    std_ang_vel=std_ang_vel,\n",
    "    std_range=std_range,\n",
    "    std_bearing=std_bearing,\n",
    "    ellipse_step_s=2.0,\n",
    "    sim_length_s=sim_length_s,\n",
    ")"
   ]
  },
  {
   "cell_type": "markdown",
   "metadata": {},
   "source": [
    "---\n",
    "\n",
    "## Odometry Motion Model\n",
    "\n",
    "Implement the Odometry motion model described by the equations reported below.\n",
    "1. Get the inputs $\\delta_{rot1}$ , $\\delta_{trasl}$, $\\delta_{rot2}$ from the previous odometry reading $\\bar x$ and the current odometry reading $\\bar x'$\n",
    "2. Implement the function $g(u_t,x_{t-1})$ to use this model inside an EKF\n",
    "\n",
    "$$\n",
    "\\begin{align}\n",
    "&\\delta_{rot1} =& \\operatorname{atan_{2}}{\\left(\\bar{y}'- \\bar{y} ,\\bar{x}' - \\bar{x}  \\right)} - \\bar{\\theta} \\\\\n",
    "&\\delta_{trasl} =& \\sqrt{\\left(\\bar{x}' - \\bar{x} \\right)^{2} + \\left(\\bar{y}' - \\bar{y} \\right)^{2}} \\\\\n",
    "&\\delta_{rot2} =& \\bar{\\theta}' - \\delta_{rot1} - \\bar{\\theta} \\\\\n",
    "\\end{align}\n",
    "$$\n",
    "\n",
    "$$\n",
    "\\begin{pmatrix}\n",
    "x_t \\\\ y_t \\\\ \\theta_t\n",
    "\\end{pmatrix} = g(u_t,x_{t-1}) + \\mathcal{N}(0, R_t) = \n",
    "\\begin{pmatrix}\n",
    "x_{t-1} \\\\ y_{t-1} \\\\ \\theta_{t-1}\n",
    "\\end{pmatrix} + \n",
    "\\left(\n",
    "    \\begin{matrix}\n",
    "    \\delta_{trasl} \\cos{\\left(\\delta_{rot1} + \\theta \\right)} \\\\\n",
    "    \\delta_{trasl} \\sin{\\left(\\delta_{rot1} + \\theta \\right)} \\\\\n",
    "    \\delta_{rot1} + \\delta_{rot2}\n",
    "    \\end{matrix} \n",
    "\\right) + \\mathcal{N}(0, R_t)\n",
    "$$"
   ]
  },
  {
   "cell_type": "code",
   "execution_count": 239,
   "metadata": {},
   "outputs": [],
   "source": [
    "from numpy import positive\n",
    "\n",
    "\n",
    "def get_odometry_input(x, x_prev):\n",
    "    x = x.flatten()\n",
    "    x_prev = x_prev.flatten()\n",
    "    if x[0]!=x_prev[0]:\n",
    "        rot1 = sympy.atan2(x[1]-x_prev[1],x[0]-x_prev[0]) -x_prev[2]\n",
    "    else:\n",
    "        rot1 = -x_prev[2]\n",
    "    trasl = sqrt(((x[0]-x_prev[0])**2) + ((x[1]-x_prev[1])**2))\n",
    "    rot2 = x[2] - rot1 - x_prev[2]\n",
    "    return np.array([[rot1, trasl, rot2]]).T"
   ]
  },
  {
   "cell_type": "code",
   "execution_count": 240,
   "metadata": {},
   "outputs": [
    {
     "data": {
      "text/latex": [
       "$\\displaystyle \\left( \\left[\\begin{matrix}\\delta_{trasl} \\cos{\\left(\\delta_{rot1} + \\theta \\right)} + x\\\\\\delta_{trasl} \\sin{\\left(\\delta_{rot1} + \\theta \\right)} + y\\\\\\delta_{rot1} + \\delta_{rot2} + \\theta\\end{matrix}\\right], \\  \\left[\\begin{matrix}1 & 0 & - \\delta_{trasl} \\sin{\\left(\\delta_{rot1} + \\theta \\right)}\\\\0 & 1 & \\delta_{trasl} \\cos{\\left(\\delta_{rot1} + \\theta \\right)}\\\\0 & 0 & 1\\end{matrix}\\right], \\  \\left[\\begin{matrix}- \\delta_{trasl} \\sin{\\left(\\delta_{rot1} + \\theta \\right)} & \\cos{\\left(\\delta_{rot1} + \\theta \\right)} & 0\\\\\\delta_{trasl} \\cos{\\left(\\delta_{rot1} + \\theta \\right)} & \\sin{\\left(\\delta_{rot1} + \\theta \\right)} & 0\\\\1 & 0 & 1\\end{matrix}\\right]\\right)$"
      ],
      "text/plain": [
       "⎛⎡δₜᵣₐₛₗ⋅cos(δᵣₒₜ₁ + θ) + x⎤  ⎡1  0  -δₜᵣₐₛₗ⋅sin(δᵣₒₜ₁ + θ)⎤  ⎡-δₜᵣₐₛₗ⋅sin(δᵣₒ\n",
       "⎜⎢                         ⎥  ⎢                            ⎥  ⎢               \n",
       "⎜⎢δₜᵣₐₛₗ⋅sin(δᵣₒₜ₁ + θ) + y⎥, ⎢0  1  δₜᵣₐₛₗ⋅cos(δᵣₒₜ₁ + θ) ⎥, ⎢δₜᵣₐₛₗ⋅cos(δᵣₒₜ\n",
       "⎜⎢                         ⎥  ⎢                            ⎥  ⎢               \n",
       "⎝⎣    δᵣₒₜ₁ + δᵣₒₜ₂ + θ    ⎦  ⎣0  0            1           ⎦  ⎣          1    \n",
       "\n",
       "ₜ₁ + θ)  cos(δᵣₒₜ₁ + θ)  0⎤⎞\n",
       "                          ⎥⎟\n",
       "₁ + θ)   sin(δᵣₒₜ₁ + θ)  0⎥⎟\n",
       "                          ⎥⎟\n",
       "               0         1⎦⎠"
      ]
     },
     "execution_count": 240,
     "metadata": {},
     "output_type": "execute_result"
    }
   ],
   "source": [
    "delta_rot1, delta_trasl, delta_rot2 = symbols('delta_rot1 delta_trasl delta_rot2')\n",
    "u_t = sympy.Matrix([delta_rot1, delta_trasl, delta_rot2])\n",
    "x_t = sympy.Matrix([x, y, theta])\n",
    "gux_odom = Matrix([\n",
    "        x,\n",
    "        y,\n",
    "        theta,\n",
    "    ])+\\\n",
    "    sympy.Matrix([\n",
    "        + delta_trasl*sympy.cos(delta_rot1 + theta),\n",
    "        + delta_trasl*sympy.sin(delta_rot1 + theta),\n",
    "        + delta_rot1 + delta_rot2\n",
    "    ])\n",
    "Gt_odom = gux_odom.jacobian(x_t)\n",
    "Vt_odom = gux_odom.jacobian(u_t)\n",
    "\n",
    "eval_gux_odom = sympy.lambdify((x, y, theta, delta_rot1, delta_trasl, delta_rot2), gux_odom, 'numpy')\n",
    "eval_Gt_odom = sympy.lambdify((x, y, theta, delta_rot1, delta_trasl, delta_rot2), Gt_odom, 'numpy')\n",
    "eval_Vt_odom = sympy.lambdify((x, y, theta, delta_rot1, delta_trasl, delta_rot2), Vt_odom, 'numpy')\n",
    "\n",
    "gux_odom, Gt_odom, Vt_odom"
   ]
  },
  {
   "cell_type": "markdown",
   "metadata": {},
   "source": [
    "--- \n",
    "\n",
    "## Simulator (with Odometry motion model)\n",
    "\n",
    "This function is very similar to the previous simulator but there are some small changes in the prediction step where it is used the function `get_odometry_input` and the previous odometry position is stored for the next iteration."
   ]
  },
  {
   "cell_type": "code",
   "execution_count": 241,
   "metadata": {},
   "outputs": [],
   "source": [
    "def run_localization_odom(\n",
    "    ekf: RobotEKF,\n",
    "    ekf_dt,\n",
    "    landmarks,\n",
    "    std_lin_vel,\n",
    "    std_ang_vel,\n",
    "    std_range,\n",
    "    std_bearing,\n",
    "    sim_step_s=0.1,\n",
    "    ellipse_step_s=5.0,\n",
    "    sim_length_s=1,\n",
    "):\n",
    "    sim_pos = ekf.mu.copy()  # simulated position, copy the initial position set inside the EKF\n",
    "    odom_pos = ekf.mu.copy()  # odometry position, copy the initial position set inside the EKF\n",
    "    sim_noise_generator = np.random.default_rng(42424242)  # random noise generator\n",
    "\n",
    "    cmd_vel = np.array(\n",
    "        [[1.10, 0.05]]\n",
    "    ).T  # velocity command (v, omega). In this case will be constant for the whole simulation\n",
    "\n",
    "    # convert the durations to number of time steps\n",
    "    steps = int(sim_length_s / sim_step_s)\n",
    "    ekf_step = int(ekf_dt / sim_step_s)\n",
    "    ellipse_step = int(ellipse_step_s / sim_step_s)\n",
    "\n",
    "    # Initialize a plot and insert the landmarks\n",
    "    fig, ax = plt.subplots(1, 2, figsize=(9, 4))\n",
    "    lmarks_legend = ax[0].scatter(landmarks[:, 0], landmarks[:, 1], marker=\"s\", s=60, label=\"Landmarks\")\n",
    "\n",
    "    track = []  # list to store all the robot positions\n",
    "    track_odom = []  # list to store all the odometry positions\n",
    "    track_ekf = [ekf.mu.copy()]  # list to store all the ekf positions\n",
    "\n",
    "    odom_pos_prev = odom_pos.copy()\n",
    "\n",
    "    # The main loop that runs the simulation\n",
    "    for i in range(steps):\n",
    "        # to simulate the error in the actuation of the robot, we add some Gaussian noise to the velocity command\n",
    "        noisy_vel = cmd_vel + np.array([[std_lin_vel, std_ang_vel]]).T * sim_noise_generator.normal(size=(2, 1))\n",
    "        # Simulate robot motion for sim_step_s seconds using the Velocity Motion Model.\n",
    "        # Complete with the correct data to evaluate the motion model\n",
    "        sim_pos = eval_gux(x = sim_pos.flatten()[0], y= sim_pos.flatten()[1], theta=sim_pos.flatten()[2], v= noisy_vel.flatten()[0], w= noisy_vel.flatten()[1], dt=sim_step_s)\n",
    "        track.append(sim_pos)\n",
    "\n",
    "        # to simulate the error in the odometry reading, we take another Gaussian sample of the velocity command\n",
    "        noisy_vel = cmd_vel + np.array([[std_lin_vel, std_ang_vel]]).T * sim_noise_generator.normal(size=(2, 1))\n",
    "        odom_pos = eval_gux(x = odom_pos.flatten()[0], y= odom_pos.flatten()[1], theta=odom_pos.flatten()[2], v= noisy_vel.flatten()[0], w= noisy_vel.flatten()[1], dt=sim_step_s)\n",
    "        track_odom.append(odom_pos)\n",
    "\n",
    "        if i % ekf_step == 0 and i != 0:  # only update ekf at dt intervals\n",
    "            # run the prediction step of the EKF\n",
    "            u = get_odometry_input(odom_pos, odom_pos_prev).flatten().astype('float64')\n",
    "            ekf.predict(u=u.flatten())\n",
    "            odom_pos_prev = odom_pos.copy()\n",
    "\n",
    "            if i % ellipse_step == 0:  # plot the prior covariance ellipses every ellipse_step_s seconds\n",
    "                pri_ellipse = plot_covariance(\n",
    "                    (ekf.mu[0, 0], ekf.mu[1, 0]),\n",
    "                    ekf.Sigma[0:2, 0:2],\n",
    "                    std=6,\n",
    "                    facecolor=\"k\",\n",
    "                    alpha=0.4,\n",
    "                    label=\"Predicted Cov\",\n",
    "                    ax=ax[0],\n",
    "                )\n",
    "\n",
    "            for lmark in landmarks:  # loop over each landmark\n",
    "                z = z_landmark(sim_pos, lmark, std_range, std_bearing)  # simulate the measurement of the landmark\n",
    "\n",
    "                # if any landmark detected by the sensor, update the EKF\n",
    "                if z is not None:\n",
    "                    # run the correction step of the EKF\n",
    "                    ekf.update(z, lmark, residual=residual)\n",
    "\n",
    "            if i % ellipse_step == 0:  # plot the posterior covariance ellipses every ellipse_step_s seconds\n",
    "                post_ellipse = plot_covariance(\n",
    "                    (ekf.mu[0, 0], ekf.mu[1, 0]),\n",
    "                    ekf.Sigma[0:2, 0:2],\n",
    "                    std=6,\n",
    "                    facecolor=\"g\",\n",
    "                    alpha=0.8,\n",
    "                    label=\"Corrected Cov\",\n",
    "                    ax=ax[0],\n",
    "                )\n",
    "            track_ekf.append(ekf.mu.copy())\n",
    "\n",
    "    # draw plots\n",
    "    track = np.array(track).astype('float64')\n",
    "    track_odom = np.array(track_odom).astype('float64')\n",
    "    track_ekf = np.array(track_ekf).astype('float64')\n",
    "    \n",
    "    # trajectory plots\n",
    "    (track_legend,) = ax[0].plot(track[:, 0], track[:, 1], label=\"Real robot path\")\n",
    "    (track_odom_legend,) = ax[0].plot(track_odom[:, 0], track_odom[:, 1], \"--\", label=\"Odometry path\")\n",
    "    ax[0].axis(\"equal\")\n",
    "    ax[0].set_title(\"EKF Robot localization\")\n",
    "    ax[0].legend(handles=[lmarks_legend, track_legend, track_odom_legend, pri_ellipse, post_ellipse])\n",
    "\n",
    "    # error plots\n",
    "    ekf_err, =  ax[1].plot(\n",
    "        np.arange(0, sim_length_s, ekf_dt), \n",
    "        np.linalg.norm(track[::ekf_step, :2] - track_ekf[:, :2], axis=1), \n",
    "        '-o',\n",
    "        label=\"EKF error\",\n",
    "    )\n",
    "    odom_err, = ax[1].plot(\n",
    "        np.arange(0, sim_length_s, sim_step_s), \n",
    "        np.linalg.norm(track[:, :2] - track_odom[:, :2], axis=1), \n",
    "        label=\"Odometry error\",\n",
    "    )\n",
    "    ax[1].legend(handles=[ekf_err, odom_err])\n",
    "    ax[1].set_title(\"Robot path error\")\n",
    "\n",
    "    fig.suptitle(\"EKF Robot localization, Velocity Motion Model\")\n",
    "    fig.tight_layout()\n",
    "\n",
    "    plt.show()"
   ]
  },
  {
   "cell_type": "markdown",
   "metadata": {},
   "source": [
    "### Run the simulation\n",
    "\n",
    "Define suitable standard deviation values for `std_rot1`, `std_trasl`, `std_rot2`.\n",
    "\n",
    "The expected output should be similar to the plot reported below, results may vary depending on your standard deviations.\n",
    "\n",
    "![expected_output_odom.png](./expected_output_odom.png)"
   ]
  },
  {
   "cell_type": "code",
   "execution_count": 242,
   "metadata": {},
   "outputs": [
    {
     "data": {
      "image/png": "[encoded data removed]",
      "text/plain": [
       "<Figure size 900x400 with 2 Axes>"
      ]
     },
     "metadata": {},
     "output_type": "display_data"
    }
   ],
   "source": [
    "# set the seed to get the same results every time\n",
    "np.random.seed(seed)\n",
    "\n",
    "std_rot1 = 0.01\n",
    "std_trasl = 0.1\n",
    "std_rot2 = 0.01\n",
    "\n",
    "# Initialize the EKF\n",
    "ekf = RobotEKF(\n",
    "    dim_x=3,\n",
    "    dim_z=2,\n",
    "    dim_u=3,\n",
    "    eval_gux=eval_gux_odom,\n",
    "    eval_Gt=eval_Gt_odom,\n",
    "    eval_Vt=eval_Vt_odom,\n",
    "    eval_hx=eval_hx,\n",
    "    eval_Ht=eval_Ht,\n",
    ")\n",
    "ekf.mu = np.array([[2, 6, 0.3]]).T  # x, y, theta\n",
    "ekf.Sigma = np.diag([0.1, 0.1, 0.1])\n",
    "ekf.Mt = np.diag([std_rot1**2, std_trasl**2, std_rot2**2])\n",
    "ekf.Qt = np.diag([std_range**2, std_bearing**2])\n",
    "\n",
    "run_localization_odom(\n",
    "    ekf,\n",
    "    ekf_dt=ekf_dt,\n",
    "    landmarks=landmarks,\n",
    "    std_lin_vel=std_lin_vel,\n",
    "    std_ang_vel=std_ang_vel,\n",
    "    std_range=std_range,\n",
    "    std_bearing=std_bearing,\n",
    "    ellipse_step_s=2.0,\n",
    "    sim_length_s=sim_length_s,\n",
    ")"
   ]
  },
  {
   "cell_type": "code",
   "execution_count": null,
   "metadata": {},
   "outputs": [],
   "source": []
  }
 ],
 "metadata": {
  "kernelspec": {
   "display_name": "Python 3",
   "language": "python",
   "name": "python3"
  },
  "language_info": {
   "codemirror_mode": {
    "name": "ipython",
    "version": 3
   },
   "file_extension": ".py",
   "mimetype": "text/x-python",
   "name": "python",
   "nbconvert_exporter": "python",
   "pygments_lexer": "ipython3",
   "version": "3.10.12"
  }
 },
 "nbformat": 4,
 "nbformat_minor": 2
}
